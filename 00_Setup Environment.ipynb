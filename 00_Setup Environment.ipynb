{
 "cells": [
  {
   "cell_type": "code",
   "execution_count": null,
   "metadata": {},
   "outputs": [],
   "source": []
  },
  {
   "attachments": {},
   "cell_type": "markdown",
   "metadata": {},
   "source": [
    "Based on [Building a Kimball dimensional model with dbt](https://docs.getdbt.com/blog/kimball-dimensional-model) I installed dbt and some of its connectors. At the moment I was trying to replicate the tutorial but using SQLite. The problem was that the version 1.5.0 of `dbt-core` wasn't compatible with `dbt-sqlite` 1.4.0."
   ]
  },
  {
   "attachments": {},
   "cell_type": "markdown",
   "metadata": {},
   "source": [
    "conda environment: `(powerbi) `\n",
    "```bash\n",
    "$ pip install dbt-core\n",
    "$ pip install dbt-sqlite\n",
    "$ pip install dbt-duckdb\n",
    "$ dbt deps\n",
    "```"
   ]
  },
  {
   "attachments": {},
   "cell_type": "markdown",
   "metadata": {},
   "source": [
    "Now I'm going to try using PostgreSQL with [AdventureWorks for Postgres](https://github.com/lorint/AdventureWorks-for-Postgres) dataset. I'm also creating the dbt project from scratch by following this youtube tutorial: [Intro to Data Build Tool (dbt) // Create your first project!](https://youtu.be/5rNquRnNb4E)  \n",
    "\n",
    "For following along, you need to have anaconda, miniconda or your preferred Python package manager."
   ]
  },
  {
   "cell_type": "code",
   "execution_count": 12,
   "metadata": {},
   "outputs": [],
   "source": [
    "%%capture\n",
    "# ! conda create -n dbt-dimensional-postgres\n",
    "! pip install dbt-core\n",
    "! pip install dbt-postgres\n",
    "! pip install --upgrade dbt-duckdb\n",
    "! pip install dbt-sqlite"
   ]
  },
  {
   "cell_type": "code",
   "execution_count": 13,
   "metadata": {},
   "outputs": [
    {
     "name": "stdout",
     "output_type": "stream",
     "text": [
      "Core:\n",
      "  - installed: 1.5.0\n",
      "  - latest:    1.5.0 - Up to date!\n",
      "\n",
      "Plugins:\n",
      "  - duckdb:   1.5.1 - Up to date!\n",
      "  - postgres: 1.5.0 - Up to date!\n",
      "  - sqlite:   1.4.0 - Not compatible!\n",
      "\n",
      "  At least one plugin is out of date or incompatible with dbt-core.\n",
      "  You can find instructions for upgrading here:\n",
      "  https://docs.getdbt.com/docs/installation\n",
      "\n",
      "\n"
     ]
    }
   ],
   "source": [
    "! dbt --version"
   ]
  },
  {
   "attachments": {},
   "cell_type": "markdown",
   "metadata": {},
   "source": [
    "Since I'm working with VS Code, I'm using it to push to a Github repository."
   ]
  },
  {
   "cell_type": "code",
   "execution_count": null,
   "metadata": {},
   "outputs": [],
   "source": []
  }
 ],
 "metadata": {
  "kernelspec": {
   "display_name": "powerbi",
   "language": "python",
   "name": "python3"
  },
  "language_info": {
   "codemirror_mode": {
    "name": "ipython",
    "version": 3
   },
   "file_extension": ".py",
   "mimetype": "text/x-python",
   "name": "python",
   "nbconvert_exporter": "python",
   "pygments_lexer": "ipython3",
   "version": "3.9.13"
  },
  "orig_nbformat": 4
 },
 "nbformat": 4,
 "nbformat_minor": 2
}

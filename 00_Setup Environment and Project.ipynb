{
 "cells": [
  {
   "cell_type": "code",
   "execution_count": null,
   "metadata": {},
   "outputs": [],
   "source": []
  },
  {
   "attachments": {},
   "cell_type": "markdown",
   "metadata": {},
   "source": [
    "Based on [Building a Kimball dimensional model with dbt](https://docs.getdbt.com/blog/kimball-dimensional-model) I installed dbt and some of its connectors. At the moment I was trying to replicate the tutorial but using SQLite. The problem was that the version 1.5.0 of `dbt-core` wasn't compatible with `dbt-sqlite` 1.4.0."
   ]
  },
  {
   "attachments": {},
   "cell_type": "markdown",
   "metadata": {},
   "source": [
    "conda environment: `(powerbi) `\n",
    "```bash\n",
    "$ pip install dbt-core\n",
    "$ pip install dbt-sqlite\n",
    "$ pip install dbt-duckdb\n",
    "$ dbt deps\n",
    "```"
   ]
  },
  {
   "attachments": {},
   "cell_type": "markdown",
   "metadata": {},
   "source": [
    "Now I'm going to try using PostgreSQL with [AdventureWorks for Postgres](https://github.com/lorint/AdventureWorks-for-Postgres) dataset. I'm also creating the dbt project from scratch by following this youtube tutorial: [Intro to Data Build Tool (dbt) // Create your first project!](https://youtu.be/5rNquRnNb4E)  \n",
    "\n",
    "For following along, you need to have anaconda, miniconda or your preferred Python package manager."
   ]
  },
  {
   "attachments": {},
   "cell_type": "markdown",
   "metadata": {},
   "source": [
    "## Installing dbt and adapters"
   ]
  },
  {
   "cell_type": "code",
   "execution_count": 12,
   "metadata": {},
   "outputs": [],
   "source": [
    "%%capture\n",
    "# ! conda create -n dbt-dimensional-postgres\n",
    "! pip install dbt-core\n",
    "! pip install dbt-postgres\n",
    "! pip install --upgrade dbt-duckdb\n",
    "! pip install dbt-sqlite"
   ]
  },
  {
   "cell_type": "code",
   "execution_count": 13,
   "metadata": {},
   "outputs": [
    {
     "name": "stdout",
     "output_type": "stream",
     "text": [
      "Core:\n",
      "  - installed: 1.5.0\n",
      "  - latest:    1.5.0 - Up to date!\n",
      "\n",
      "Plugins:\n",
      "  - duckdb:   1.5.1 - Up to date!\n",
      "  - postgres: 1.5.0 - Up to date!\n",
      "  - sqlite:   1.4.0 - Not compatible!\n",
      "\n",
      "  At least one plugin is out of date or incompatible with dbt-core.\n",
      "  You can find instructions for upgrading here:\n",
      "  https://docs.getdbt.com/docs/installation\n",
      "\n",
      "\n"
     ]
    }
   ],
   "source": [
    "! dbt --version"
   ]
  },
  {
   "attachments": {},
   "cell_type": "markdown",
   "metadata": {},
   "source": [
    "## Pushing to Github"
   ]
  },
  {
   "attachments": {},
   "cell_type": "markdown",
   "metadata": {},
   "source": [
    "Since I'm working with VS Code, I'm using it to push to https://github.com/fmussari/dbt-dimensional-modeling-experiment."
   ]
  },
  {
   "attachments": {},
   "cell_type": "markdown",
   "metadata": {},
   "source": [
    "## Inicialize a dbt project"
   ]
  },
  {
   "cell_type": "code",
   "execution_count": 2,
   "metadata": {},
   "outputs": [
    {
     "name": "stdout",
     "output_type": "stream",
     "text": [
      "^C\n"
     ]
    }
   ],
   "source": [
    "! dbt init dbt_dimensional_demo --profiles-dir ."
   ]
  },
  {
   "attachments": {},
   "cell_type": "markdown",
   "metadata": {},
   "source": [
    "```\n",
    "11:52:59  Running with dbt=1.5.0\n",
    "Which database would you like to use?\n",
    "[1] duckdb\n",
    "[2] postgres\n",
    "[3] sqlite\n",
    "```\n",
    "\n",
    "I selected  option 2."
   ]
  },
  {
   "cell_type": "code",
   "execution_count": 9,
   "metadata": {},
   "outputs": [
    {
     "name": "stdout",
     "output_type": "stream",
     "text": [
      "\u001b[0m20:55:33  Running with dbt=1.5.0\n",
      "\u001b[0m20:55:34  Installing dbt-labs/dbt_utils\n",
      "\u001b[0m20:55:36  Installed from version 1.1.0\n",
      "\u001b[0m20:55:36  Up to date!\n"
     ]
    }
   ],
   "source": [
    "! dbt deps --project-dir dbt_dimensional_demo --profiles-dir dbt_dimensional_demo"
   ]
  },
  {
   "cell_type": "code",
   "execution_count": 5,
   "metadata": {},
   "outputs": [
    {
     "name": "stdout",
     "output_type": "stream",
     "text": [
      "Usage: dbt deps [OPTIONS]\n",
      "\n",
      "  Pull the most recent version of the dependencies listed in packages.yml\n",
      "\n",
      "Options:\n",
      "  --profile TEXT       Which profile to load. Overrides setting in\n",
      "                       dbt_project.yml.\n",
      "  --profiles-dir PATH  Which directory to look in for the profiles.yml file.\n",
      "                       If not set, dbt will look in the current working\n",
      "                       directory first, then HOME/.dbt/\n",
      "  --project-dir PATH   Which directory to look in for the dbt_project.yml\n",
      "                       file. Default is the current working directory and its\n",
      "                       parents.\n",
      "  -t, --target TEXT    Which target to load for the given profile\n",
      "  --vars YAML          Supply variables to the project. This argument\n",
      "                       overrides variables defined in your dbt_project.yml\n",
      "                       file. This argument should be a YAML string, eg.\n",
      "                       '{my_variable: my_value}'\n",
      "  -h, --help           Show this message and exit.\n"
     ]
    }
   ],
   "source": [
    "! dbt deps -h"
   ]
  },
  {
   "attachments": {},
   "cell_type": "markdown",
   "metadata": {},
   "source": [
    "## Creatin environment variables for dbt"
   ]
  },
  {
   "attachments": {},
   "cell_type": "markdown",
   "metadata": {},
   "source": [
    "I try to add a connection to a Supabase database. In order to create environment variables I followed the link in the comments.\n",
    "\n",
    "```\n",
    "supabaseAdventure:\n",
    "      # https://conda.io/projects/conda/en/latest/user-guide/tasks/manage-environments.html#setting-environment-variables\n",
    "      type: postgres\n",
    "      threads: 4\n",
    "      host: \"{{ env_var('SUPABASE_HOST') }}\"\n",
    "      port: 5432\n",
    "      user: \"{{ env_var('SUPABASE_USER') }}\"\n",
    "      pass: \"{{ env_var('SUPABASE_PASS') }}\"\n",
    "      database: Adventureworks\n",
    "      schema: t\n",
    "```\n",
    "\n",
    "The connection failed with timeout. I don't know why, but after trying to connect with dbt I could managed to used a functional connection I had with pgAdmin. After which I had to start using SSL certificate."
   ]
  },
  {
   "cell_type": "code",
   "execution_count": null,
   "metadata": {},
   "outputs": [],
   "source": []
  }
 ],
 "metadata": {
  "kernelspec": {
   "display_name": "powerbi",
   "language": "python",
   "name": "python3"
  },
  "language_info": {
   "codemirror_mode": {
    "name": "ipython",
    "version": 3
   },
   "file_extension": ".py",
   "mimetype": "text/x-python",
   "name": "python",
   "nbconvert_exporter": "python",
   "pygments_lexer": "ipython3",
   "version": "3.9.13"
  },
  "orig_nbformat": 4
 },
 "nbformat": 4,
 "nbformat_minor": 2
}

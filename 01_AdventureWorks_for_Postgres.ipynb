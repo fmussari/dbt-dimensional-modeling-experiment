{
 "cells": [
  {
   "cell_type": "code",
   "execution_count": null,
   "metadata": {},
   "outputs": [],
   "source": []
  },
  {
   "attachments": {},
   "cell_type": "markdown",
   "metadata": {},
   "source": [
    "## Installing PostgreSQL in WSL\n",
    "[Install PostgreSQL](https://learn.microsoft.com/en-us/windows/wsl/tutorials/wsl-database#install-postgresql)"
   ]
  },
  {
   "attachments": {},
   "cell_type": "markdown",
   "metadata": {},
   "source": [
    "```\n",
    "$ sudo apt update\n",
    "$ sudo apt install postgresql\n",
    "$ psql --version\n",
    "```"
   ]
  },
  {
   "attachments": {},
   "cell_type": "markdown",
   "metadata": {},
   "source": [
    "## Installing Ruby\n",
    "[Install Ruby On Rails on Windows 10](https://gorails.com/setup/windows/10)"
   ]
  },
  {
   "attachments": {},
   "cell_type": "markdown",
   "metadata": {},
   "source": [
    "```\n",
    "sudo apt-get install git-core curl zlib1g-dev build-essential libssl-dev libreadline-dev libyaml-dev libsqlite3-dev sqlite3 libxml2-dev libxslt1-dev libcurl4-openssl-dev software-properties-common libffi-dev\n",
    "```"
   ]
  },
  {
   "attachments": {},
   "cell_type": "markdown",
   "metadata": {},
   "source": [
    "```\n",
    "cd\n",
    "git clone https://github.com/excid3/asdf.git ~/.asdf\n",
    "echo '. \"$HOME/.asdf/asdf.sh\"' >> ~/.bashrc\n",
    "echo '. \"$HOME/.asdf/completions/asdf.bash\"' >> ~/.bashrc\n",
    "echo 'legacy_version_file = yes' >> ~/.asdfrc\n",
    "echo 'export EDITOR=\"code --wait\"' >> ~/.bashrc\n",
    "exec $SHELL\n",
    "```"
   ]
  },
  {
   "attachments": {},
   "cell_type": "markdown",
   "metadata": {},
   "source": [
    "```\n",
    "asdf plugin add ruby\n",
    "asdf install ruby 3.2.2\n",
    "asdf global ruby 3.2.2\n",
    "```"
   ]
  },
  {
   "attachments": {},
   "cell_type": "markdown",
   "metadata": {},
   "source": [
    "## AdventureWorks for Postgres\n",
    "https://github.com/lorint/AdventureWorks-for-Postgres"
   ]
  },
  {
   "attachments": {},
   "cell_type": "markdown",
   "metadata": {},
   "source": [
    "```\n",
    "$ git clone git@github.com:lorint/AdventureWorks-for-Postgres.git\n",
    "```"
   ]
  },
  {
   "attachments": {},
   "cell_type": "markdown",
   "metadata": {},
   "source": [
    "```\n",
    "ruby update_csvs.rb\n",
    "```"
   ]
  },
  {
   "attachments": {},
   "cell_type": "markdown",
   "metadata": {},
   "source": [
    "Me comió, un peo de usuario, WSL, permisos, blah, blah.  \n",
    "Me fui ahora por la instalación de Postgres para Windows."
   ]
  },
  {
   "attachments": {},
   "cell_type": "markdown",
   "metadata": {},
   "source": [
    "## Importación de la base de datos de ejemplo AdventureWorks en el servidor PostgreSQL habilitado para Azure Arc\n",
    "https://learn.microsoft.com/es-es/azure/azure-arc/data/restore-adventureworks-sample-db-into-postgresql-server#download-the-adventureworks-backup-file"
   ]
  },
  {
   "attachments": {},
   "cell_type": "markdown",
   "metadata": {},
   "source": [
    "[Seguimiento del proyecto que hace una conversión previa de los archivos CSV para que sean compatibles con PostgreSQL](https://github.com/NorfolkDataSci/adventure-works-postgres)"
   ]
  },
  {
   "attachments": {},
   "cell_type": "markdown",
   "metadata": {},
   "source": [
    "Luego de instalar Postgres para windows y de añadir `psql` a las variables de ambiente."
   ]
  },
  {
   "attachments": {},
   "cell_type": "markdown",
   "metadata": {},
   "source": [
    "Se clonó el repositorio en `adventure-works-postgres`.  \n",
    "`M:\\2023-04. dbt dimensional modelling tutorial\\adventure-works-postgres`"
   ]
  },
  {
   "attachments": {},
   "cell_type": "markdown",
   "metadata": {},
   "source": [
    "```\n",
    "X > psql -c \"CREATE DATABASE \\\"Adventureworks\\\";\" -U postgres\n",
    "X > psql -d Adventureworks < install.sql -U postgres\n",
    "\n",
    "```"
   ]
  },
  {
   "attachments": {},
   "cell_type": "markdown",
   "metadata": {},
   "source": [
    "Scripts ejecutados exitosamente."
   ]
  },
  {
   "attachments": {},
   "cell_type": "markdown",
   "metadata": {},
   "source": [
    "También se conectó pgAdmin con Supabase."
   ]
  },
  {
   "attachments": {},
   "cell_type": "markdown",
   "metadata": {},
   "source": [
    "Host: `db.npzaitqyexnjvjlrfpnm.supabase.co`\n",
    "..."
   ]
  },
  {
   "attachments": {},
   "cell_type": "markdown",
   "metadata": {},
   "source": [
    "Con ChatGPT obtuve un comando para hacer un backup a la base de datos. \n",
    "```\n",
    "X > pg_dump -U postgres -F c -b -v -f Adventureworks.backup Adventureworks\n",
    "```"
   ]
  },
  {
   "attachments": {},
   "cell_type": "markdown",
   "metadata": {},
   "source": [
    "Luego creé la BD Adventureworks en Supabase e hice el restore del archivo."
   ]
  },
  {
   "attachments": {},
   "cell_type": "markdown",
   "metadata": {},
   "source": [
    "Pude conectarme con Supabase sin problemas desde pgAdmin 4. De hecho creé la base de datos Adventureworks sin problemas.  Sin embargo cuando intenté conectarme desde dbt empezó a arrojar problemas de timeout. A partir de allí no pude conectarme más desde pgAdmin. Para volver a conectarme desde pgAdmin tuve que usar un certificado SSL.  \n",
    "[connecting-to-postgres](https://supabase.com/docs/guides/database/connecting-to-postgres)  \n",
    "  \n",
    "- Luego creé un nuevo proyecto llamado `adventureworks-dbt` y volví a conectarme nuevamente sin certificado SSL.\n",
    "- Restauré `Adventureworks.backup` pero en la base de datos base de supabase, es decir en `postgres`. Anteriormente lo hice en una base de datos nueva llamada `Adventureworks`, pero esta no podía explorarse en la web de supabase."
   ]
  },
  {
   "attachments": {},
   "cell_type": "markdown",
   "metadata": {},
   "source": []
  }
 ],
 "metadata": {
  "language_info": {
   "name": "python"
  },
  "orig_nbformat": 4
 },
 "nbformat": 4,
 "nbformat_minor": 2
}
